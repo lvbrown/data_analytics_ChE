{
 "cells": [
  {
   "cell_type": "markdown",
   "metadata": {
    "nbgrader": {
     "grade": false,
     "locked": true,
     "solution": false
    }
   },
   "source": [
    "# Midterm\n",
    "\n",
    "5 pm, Oct. 18th- 12 pm Oct. 20th, 2022\n",
    "\n",
    "### Instructions\n",
    "\n",
    "**Before you turn this exam in, make sure everything runs as expected: in the menubar, select `Kernel` $\\rightarrow$ `Restart & Run All`. If you have failing tests, then you may need to use `Cell` $\\rightarrow$ `Run All Below` to execute cells past the failing tests. After running all (functional) cells in order you should leave the output in the notebook and submit.**\n",
    "\n",
    "Any `assert` statements are provided to check your answers. Unlike auto-graded sections in homework assignments, **you may receive partial (or full) credit even if these code blocks fail**, and you may not receive full credit even if they pass (e.g. if you hack them to pass). Problems without `assert` statements may have multiple correct solutions, and will be manually graded by instructors.\n",
    "\n",
    "Make sure you fill in any place that says `# Start your code here`. Please also write your name and official GT ID below.\n",
    "\n",
    "### The timer is strict, be sure to submit in time!\n",
    "\n",
    "You may submit the exam up to 20 times. If you plan to work up until the very end of the timer please be sure to submit a nearly-complete version 5 minutes ahead of time to ensure that you don't lose your work if you barely miss the timer. The exam should auto-submit at the end, but it is strongly suggested that you manually submit a few minutes ahead of time to be safe."
   ]
  },
  {
   "cell_type": "code",
   "execution_count": null,
   "metadata": {
    "collapsed": true,
    "jupyter": {
     "outputs_hidden": true
    }
   },
   "outputs": [],
   "source": [
    "NAME = \"\"\n",
    "GTID = \"\" #e.g. gburdell0"
   ]
  },
  {
   "cell_type": "markdown",
   "metadata": {
    "nbgrader": {
     "grade": false,
     "locked": true,
     "solution": false
    }
   },
   "source": [
    "## Logistical Notes and Instructions\n",
    "\n",
    "Failure to follow these instructions may negatively impact your grade.\n",
    "\n",
    "* Your exam must be submitted prior to the timer ending on your Canvas quiz. **Accessing the Vocareum assignment after the timer expires or downloading the exam file without permission will be considered an honor code violation.** Vocareum logs record all access times and downloads. If you need to download the exam due to an emergency (e.g. unable to submit at the last minute) that is okay, but please notify instructors immediately.\n",
    "\n",
    "* You have **90 minutes to complete the exam**, and you have 15 extra minutes to deal with any logistical issues that may arise or take a break. This means minor technical issues that are resolved in $<$5 minutes will not result in an extension of the timer, and that you should have plenty of time to run everything and submit the exam. If you encounter unexpected technical issues please notify instructors immediately to establish a contingency plan.\n",
    "\n",
    "* If you have issues or questions please contact instructors via a **private Canvas message**. Do not use any other means of communication during the exam. Instructors will monitor Canvas closely during the \"office hours\" (see Canvas announcement) and as often as possible in between. It is strongly recommended that you begin the exam during one of these windows. If you are unable to use Canvas or need to get in touch immediately you may call or text Dr. Medford's cell phone at 650-213-2306.\n",
    "\n",
    "* Instructors will **not answer questions related to content** in order to ensure a fair experience for everyone. In the case of ambiguities, typos, or possible errors you will be asked to use your best judgement, so **please restrict questions to technical issues that hinder your ability to complete the exam.**\n",
    "\n",
    "* You may use any online resources or your own notes on the exam. However, you may not communicate with any of your classmates regarding the exam at any point during the exam time window. **Inappropriate communication will be considered an honor code violation.**\n",
    "\n",
    "* Code blocks containing `assert` statements should not cause errors if the solution is correct, but there may be slight differences due to implementations. As long as you attempt the problem, you will receive partial credit even if the auto-grader does not pass.\n",
    "\n",
    "* There are 3 main problems, each with sub-problems, that are worth a total of 135 points. Students in the 4745 section will receive 15 bonus points on the exam, but their total score cannot exceed 100%.\n",
    "\n",
    "* Submit your exam through Vocareum when you are finished. You may push the submit button up to 20 times, so if you are feeling anxious you can submit at multiple points in the exam. Naturally, only the last submission will be graded."
   ]
  },
  {
   "cell_type": "markdown",
   "metadata": {
    "nbgrader": {
     "grade": false,
     "locked": true,
     "solution": false
    }
   },
   "source": [
    "## Problem 1: Spectral Fitting (60 points)\n",
    "\n",
    "### Loading data\n",
    "\n",
    "The following block of code reads in data for the IR spectra of the C-H stretch region for propene (2500-3500 cm$^{-1}$) and visualizes the data with a plot. You will work with this data throughout Problem 1."
   ]
  },
  {
   "cell_type": "code",
   "execution_count": 2,
   "metadata": {
    "nbgrader": {
     "grade": false,
     "locked": true,
     "solution": false
    }
   },
   "outputs": [
    {
     "name": "stdout",
     "output_type": "stream",
     "text": [
      "Index(['wavenumber', 'intensity [a.u.]'], dtype='object')\n"
     ]
    },
    {
     "data": {
      "image/png": "[encoded data removed]",
      "text/plain": [
       "<Figure size 750x450 with 1 Axes>"
      ]
     },
     "metadata": {
      "needs_background": "light"
     },
     "output_type": "display_data"
    }
   ],
   "source": [
    "import pandas as pd\n",
    "import matplotlib.pyplot as plt\n",
    "import numpy as np\n",
    "\n",
    "df = pd.read_csv('propene.csv')\n",
    "print(df.columns)\n",
    "x_all = df['wavenumber'].values\n",
    "y_all = df['intensity [a.u.]'].values\n",
    "\n",
    "idxs = np.logical_and(x_all > 2500, x_all < 3500)\n",
    "x_peak = x_all[idxs]\n",
    "y_peak = y_all[idxs] - 0.146 #baseline subtraction\n",
    "\n",
    "fig, ax = plt.subplots(figsize = (5, 3), dpi = 150)\n",
    "ax.plot(x_peak, y_peak, '-b', marker = '.')\n",
    "ax.set_xlabel('wavenumber [$cm^{-1}$]')\n",
    "ax.set_ylabel('absorbance');"
   ]
  },
  {
   "cell_type": "markdown",
   "metadata": {
    "nbgrader": {
     "grade": false,
     "locked": true,
     "solution": false
    }
   },
   "source": [
    "In this problem, you will fit IR spectrum peaks with multiple Gaussians to find the optimal positions and widths of the peaks. For this task, you will assume that the spectra is given by a linear combination of Gaussians:\n",
    "\n",
    "$$y = \\sum^N_{i=0} w_i exp(-\\frac{(x-\\mu_i)^2}{2\\sigma_i^2})$$\n",
    "\n",
    "where $y$ is the spectra, $x$ is the wavenumber, $w_i$, $\\mu_i$, and $\\sigma_i$ are parameters that control the weight, position, and width of peak $i$."
   ]
  },
  {
   "cell_type": "markdown",
   "metadata": {},
   "source": [
    "## 1a: Gaussian peaks as linear \"features\"\n",
    "\n",
    "**10 points:** Create a function called `gaussian_features` that takes the following arguments and returns a **matrix** where each row corresponds to a wavenumber in the original data and each column corresponds to a single peak evaluated at that wavenumber.\n",
    "\n",
    "- input data `x` (wavenumbers in this case) (1-dimensional numpy array, assumed to be of length 3N)\n",
    "- a parameter vector `lamda`: $\\vec{\\lambda} = [\\vec{w}, \\vec{\\mu}, \\vec{\\sigma}]$ (1-dimensional numpy array)\n",
    "- a number of Gaussians `N` (int)\n",
    "\n",
    "**Hint:** This is similar to the `gaussian_features` function from the [linear regression lecture](https://github.com/medford-group/data_analytics_ChE/blob/master/1-numerical_methods/Topic3-Linear_Regression.ipynb), but allows for varying heights, positions, and widths similar to the loss functions defined in the [numerical optimization](https://github.com/medford-group/data_analytics_ChE/blob/master/1-numerical_methods/Topic4-Numerical_Optimization.ipynb) lecture.\n",
    "\n",
    "**Note:** Using evenly-spaced Gaussians with a fixed width will get partial credit for this problem, and will allow you to complete the subsequent problems for (near) full credit."
   ]
  },
  {
   "cell_type": "code",
   "execution_count": 33,
   "metadata": {},
   "outputs": [],
   "source": [
    "def gaussian_features(x, lamda, N):\n",
    "    x = x.reshape(-1) #ensure that x is a vector\n",
    "    ########################################\n",
    "    # Start your code here\n",
    "    w_vec = lamda[:N]\n",
    "    mu_vec = lamda[N:2*N]\n",
    "    sig_vec = lamda[2*N:3*N]\n",
    "    features = []\n",
    "    for w, mu, sig in zip(w_vec, mu_vec, sig_vec):\n",
    "        features.append(w*np.exp(-((x - mu)**2/(2*sig**2))))\n",
    "    return np.array(features).T\n",
    "    ########################################"
   ]
  },
  {
   "cell_type": "code",
   "execution_count": 34,
   "metadata": {
    "nbgrader": {
     "grade": true,
     "grade_id": "gaussian_features",
     "locked": true,
     "points": "10",
     "solution": false
    }
   },
   "outputs": [],
   "source": [
    "lamda_test = np.array([1., 1., 1., 2750., 2950., 3100., 50., 75., 50.])\n",
    "x_test = np.linspace(2500, 3500, 200)\n",
    "X = gaussian_features(x_test, lamda_test, 3)\n",
    "y = X.sum(1)\n",
    "assert np.isclose(y.sum(),87.29332419269942) "
   ]
  },
  {
   "cell_type": "markdown",
   "metadata": {},
   "source": [
    "**10 points:** Your colleague tells you that there should be two C-H stretching peaks with the following position and width:\n",
    "\n",
    "* $\\mu_0 = 2950$, $\\sigma_0 = 75$\n",
    "* $\\mu_1 = 3100$, $\\sigma_1 = 25$\n",
    "\n",
    "Utilize the `gaussian_features` function you created to perform **linear regression** to determine the optimal weights, $w_i$, assuming these peak positions and widths are correct. You do not need to add an intercept term. To receive full credit you should **only use matrix multiplication and a linear solver**, but you will receive partial credit if you use scikit-learn or other built-in regression packages (note that the autograder may not pass with other packages)."
   ]
  },
  {
   "cell_type": "code",
   "execution_count": 35,
   "metadata": {},
   "outputs": [],
   "source": [
    "########################################\n",
    "# Start your code here\n",
    "lamda = [1., 1., 2950., 3100., 75., 25.]\n",
    "X = gaussian_features(x_peak, lamda, 2)\n",
    "\n",
    "A = X.T@X\n",
    "b = X.T@y_peak\n",
    "w_lsr = np.linalg.solve(A,b)\n",
    "########################################"
   ]
  },
  {
   "cell_type": "code",
   "execution_count": 36,
   "metadata": {
    "nbgrader": {
     "grade": true,
     "grade_id": "linear_regression",
     "locked": true,
     "points": "10",
     "solution": false
    }
   },
   "outputs": [],
   "source": [
    "assert np.isclose(sum(w_lsr), 1.3699948626299556)"
   ]
  },
  {
   "cell_type": "markdown",
   "metadata": {
    "nbgrader": {
     "grade": false,
     "locked": true,
     "solution": false
    }
   },
   "source": [
    "**5 points:** Plot the prediction with the optimized weights compared to the original data."
   ]
  },
  {
   "cell_type": "code",
   "execution_count": 37,
   "metadata": {
    "scrolled": true
   },
   "outputs": [
    {
     "data": {
      "text/plain": [
       "<matplotlib.legend.Legend at 0x7fa205fd5450>"
      ]
     },
     "execution_count": 37,
     "metadata": {},
     "output_type": "execute_result"
    },
    {
     "data": {
      "image/png": "[encoded data removed]",
      "text/plain": [
       "<Figure size 432x288 with 1 Axes>"
      ]
     },
     "metadata": {
      "needs_background": "light"
     },
     "output_type": "display_data"
    }
   ],
   "source": [
    "########################################\n",
    "# Start your code here\n",
    "yhat_linear = X@w_lsr\n",
    "\n",
    "fig, ax = plt.subplots()\n",
    "ax.scatter(x_peak, yhat_linear, color= \"r\", label = \"prediction\")\n",
    "ax.scatter(x_peak, y_peak, color = \"b\", label = \"true values\")\n",
    "plt.xlabel(\"x_peak\")\n",
    "plt.ylabel(\"y_value\")\n",
    "plt.legend()\n",
    "########################################"
   ]
  },
  {
   "cell_type": "markdown",
   "metadata": {
    "nbgrader": {
     "grade": false,
     "locked": true,
     "solution": false
    }
   },
   "source": [
    "## 1b: Non-linear regression of Gaussian peaks\n",
    "\n",
    "In this problem you will use non-linear regression using the `scipy` `minimize` function to allow the positions and widths of the peaks to vary."
   ]
  },
  {
   "cell_type": "markdown",
   "metadata": {
    "nbgrader": {
     "grade": false,
     "locked": true,
     "solution": false
    }
   },
   "source": [
    "**5 points:** Import the `minimize` function from `scipy`."
   ]
  },
  {
   "cell_type": "code",
   "execution_count": 38,
   "metadata": {},
   "outputs": [],
   "source": [
    "########################################\n",
    "# Start your code here\n",
    "from scipy.optimize import minimize\n",
    "########################################"
   ]
  },
  {
   "cell_type": "code",
   "execution_count": 39,
   "metadata": {
    "nbgrader": {
     "grade": true,
     "grade_id": "import_minimize",
     "locked": true,
     "points": "5",
     "solution": false
    }
   },
   "outputs": [],
   "source": [
    "assert minimize, \"minimize not imported\""
   ]
  },
  {
   "cell_type": "markdown",
   "metadata": {},
   "source": [
    "**5 points:** Create a \"loss function\" that takes the following arguments and returns the average of squared errors:\n",
    "\n",
    "- input data `x` (wavenumbers in this case) (1-dimensional numpy array, assumed to be of length 3N)\n",
    "- target data `y` (absorbance in this case) (1-dimensional numpy array)\n",
    "- a parameter vector `lamda`: $\\vec{\\lambda} = [\\vec{w}, \\vec{\\mu}, \\vec{\\sigma}]$ (1-dimensional numpy array)\n",
    "- a number of Gaussians `N` (int)\n",
    "\n",
    "You may assume that the length of `lamda` is 3 x `N`."
   ]
  },
  {
   "cell_type": "code",
   "execution_count": 40,
   "metadata": {},
   "outputs": [],
   "source": [
    "def loss(x, y, lamda, N):\n",
    "########################################\n",
    "# Start your code here\n",
    "    X = x\n",
    "    predict = np.zeros(X.shape[0])\n",
    "    for i in range(N):\n",
    "        predict += lamda[i] * np.exp(-(X - lamda[i+N])**2 / 2 / lamda[i+2*N]**2)\n",
    "        \n",
    "    return ((predict-y)**2).mean()\n",
    "########################################"
   ]
  },
  {
   "cell_type": "code",
   "execution_count": 41,
   "metadata": {
    "nbgrader": {
     "grade": true,
     "grade_id": "loss_function",
     "locked": true,
     "points": "5",
     "solution": false
    }
   },
   "outputs": [],
   "source": [
    "lamda_test = [1., 1., 2950., 3100., 75., 25.]\n",
    "assert np.isclose(loss(x_peak, y_peak, lamda_test, 2), 0.017141358498574434)"
   ]
  },
  {
   "cell_type": "markdown",
   "metadata": {
    "nbgrader": {
     "grade": false,
     "locked": true,
     "solution": false
    }
   },
   "source": [
    "**5 points:** As covered in the lecture notes, the `minimize` function requires a loss function of which only one argument is unknown. Write a function `g` that takes the same arguments as `loss` does, while `x`, `y`, and `N` are predefined and only `lamda` remains unknown. The returned value of `g` should be the same as that of `loss` function. The default values for `x`, `y`, and `N` are provided below. "
   ]
  },
  {
   "cell_type": "code",
   "execution_count": 42,
   "metadata": {
    "nbgrader": {
     "grade": false,
     "locked": true,
     "solution": false
    }
   },
   "outputs": [],
   "source": [
    "x = x_peak\n",
    "y = y_peak\n",
    "\n",
    "N = 2"
   ]
  },
  {
   "cell_type": "code",
   "execution_count": 43,
   "metadata": {},
   "outputs": [],
   "source": [
    "def g(lamda, x=x_peak, y=y_peak, N=N):\n",
    "########################################\n",
    "# Start your code here\n",
    "    return loss(x, y, lamda, N)\n",
    "########################################"
   ]
  },
  {
   "cell_type": "code",
   "execution_count": 44,
   "metadata": {
    "nbgrader": {
     "grade": true,
     "grade_id": "input_function_minimize",
     "locked": true,
     "points": "5",
     "solution": false
    }
   },
   "outputs": [],
   "source": [
    "lamda_test = np.array([1., 1., 1., 2850, 2950., 3100.,30., 75., 25.])\n",
    "assert np.isclose(g(lamda_test), 2.0629551012463683)"
   ]
  },
  {
   "cell_type": "markdown",
   "metadata": {
    "nbgrader": {
     "grade": false,
     "locked": true,
     "solution": false
    }
   },
   "source": [
    "**5 points:** Minimize the `g` function with respect to `lamda` by using the scipy `minimize` function. You should use the `L-BFGS-B` algorithm for the optimization and use the defaults for all tolerances.  Save the optimized $\\vec{\\lambda}$ to a variable called `lamda_opt`.  The initial guess for `lamda` is given below."
   ]
  },
  {
   "cell_type": "code",
   "execution_count": 45,
   "metadata": {
    "nbgrader": {
     "grade": false,
     "locked": true,
     "solution": false
    }
   },
   "outputs": [],
   "source": [
    "init_lamda =  np.array([1., 1., 2950., 3100., 75., 25.])"
   ]
  },
  {
   "cell_type": "code",
   "execution_count": 46,
   "metadata": {},
   "outputs": [],
   "source": [
    "########################################\n",
    "# Start your code here\n",
    "res = minimize(g, init_lamda, method = 'L-BFGS-B')\n",
    "lamda_opt = res.x\n",
    "########################################"
   ]
  },
  {
   "cell_type": "code",
   "execution_count": 47,
   "metadata": {
    "nbgrader": {
     "grade": true,
     "grade_id": "minimize_nonlinear",
     "locked": true,
     "points": "5",
     "solution": false
    }
   },
   "outputs": [],
   "source": [
    "assert np.isclose(np.linalg.norm(lamda_opt), 4283.4043840202885)"
   ]
  },
  {
   "cell_type": "markdown",
   "metadata": {
    "nbgrader": {
     "grade": false,
     "locked": true,
     "solution": false
    }
   },
   "source": [
    "**5 points:** Plot the prediction with the optimized peaks compared to the original data."
   ]
  },
  {
   "cell_type": "code",
   "execution_count": 48,
   "metadata": {
    "scrolled": true
   },
   "outputs": [
    {
     "data": {
      "text/plain": [
       "<matplotlib.legend.Legend at 0x7fa2061086d0>"
      ]
     },
     "execution_count": 48,
     "metadata": {},
     "output_type": "execute_result"
    },
    {
     "data": {
      "image/png": "[encoded data removed]",
      "text/plain": [
       "<Figure size 432x288 with 1 Axes>"
      ]
     },
     "metadata": {
      "needs_background": "light"
     },
     "output_type": "display_data"
    }
   ],
   "source": [
    "########################################\n",
    "# Start your code here\n",
    "X = gaussian_features(x, lamda_opt, 2)\n",
    "yhat_nl = X.sum(1)\n",
    "\n",
    "fig, ax = plt.subplots()\n",
    "ax.scatter(x_peak, yhat_nl, color= \"r\", label = \"prediction\")\n",
    "ax.scatter(x_peak, y_peak, color = \"b\", label = \"true values\")\n",
    "plt.xlabel(\"x_peak\")\n",
    "plt.ylabel(\"y_value\")\n",
    "\n",
    "plt.legend()\n",
    "########################################"
   ]
  },
  {
   "cell_type": "markdown",
   "metadata": {
    "nbgrader": {
     "grade": false,
     "locked": true,
     "solution": false
    }
   },
   "source": [
    "### 1c: Complexity comparison\n",
    "\n",
    "You tell your colleague that you found different peak positions and widths that fit the spectra better, and they argue that their positions and widths are correct because they are in a textbook, and that the ones you determined are less valid because \"with enough parameters you can fit an elephant\".\n",
    "\n",
    "You recognize that over-fitting could be a problem in this case, and decide to compare the two results with the **Bayesan information criteria** (BIC) to determine if the additional fitted parameters are justified by the data. The BIC is computed as:\n",
    "\n",
    "$\\mathrm{BIC}=n\\times ln\\left(\\sigma_e^2\\right)+k\\times ln\\left(n\\right)$\n",
    "\n",
    "where $n$ is the number of data points, $\\sigma_e$ is the standard deviation of the error, and $k$ is the number of parameters."
   ]
  },
  {
   "cell_type": "markdown",
   "metadata": {
    "nbgrader": {
     "grade": false,
     "locked": true,
     "solution": false
    }
   },
   "source": [
    "**5 points:** Create a function `BIC` that returns the BIC for a given true value `y` and predicted value `y_hat`. `BIC` takes three arguments:\n",
    "\n",
    "- `y`: true value (1-D numpy array)\n",
    "- `y_hat`: predicted value (1-D numpy array)\n",
    "- `k`: the number of parameters (float)"
   ]
  },
  {
   "cell_type": "code",
   "execution_count": 49,
   "metadata": {},
   "outputs": [],
   "source": [
    "def BIC(y, y_hat, k):\n",
    "########################################\n",
    "    # Start your code here\n",
    "    err = y - y_hat\n",
    "    sigma = np.std(np.real(err))\n",
    "    n = len(y)\n",
    "    bic = n*np.log(sigma**2) + k*np.log(n)\n",
    "########################################\n",
    "    return bic"
   ]
  },
  {
   "cell_type": "code",
   "execution_count": 50,
   "metadata": {
    "nbgrader": {
     "grade": true,
     "grade_id": "BIC",
     "locked": true,
     "points": "5",
     "solution": false
    }
   },
   "outputs": [],
   "source": [
    "assert np.isclose(BIC(x_peak, y_peak, 10), 2319.1075825285), \"wrong BIC\""
   ]
  },
  {
   "cell_type": "markdown",
   "metadata": {
    "nbgrader": {
     "grade": false,
     "locked": true,
     "solution": false
    }
   },
   "source": [
    "**5 points:** Use the BIC function to calculate the BIC for the two cases above:\n",
    "\n",
    "* Linear fitting of the weights of each peak, with the position and width fixed\n",
    "* Non-linear fitting of all parameters of the two peaks\n",
    "\n",
    "Based on the results, which fit would you recommend as being more accurate? Justify your answer using the BIC."
   ]
  },
  {
   "cell_type": "code",
   "execution_count": 53,
   "metadata": {},
   "outputs": [
    {
     "name": "stdout",
     "output_type": "stream",
     "text": [
      "BIC for linear and non linear fitting are -1233.3444931460178 and -1451.1025800884875, respectively.\n"
     ]
    }
   ],
   "source": [
    "########################################\n",
    "# Start your code here\n",
    "BIC_linear = BIC(y_peak, yhat_linear, 2)\n",
    "BIC_nonlinear = BIC(y_peak, yhat_nl, 6)\n",
    "\n",
    "print(\"BIC for linear and non linear fitting are {} and {}, respectively.\".format(BIC_linear, BIC_nonlinear))\n",
    "########################################"
   ]
  },
  {
   "cell_type": "markdown",
   "metadata": {},
   "source": [
    "#### The BIC for the non-linear regression is lower despite the additional parameters. Therefore, this model is recommended. \n",
    "\n",
    "#### Full credit was awarded if (1) students correctly noted that the number of parameters increased for non-linear optimization and (2) students noted that lower BIC corresponds to a more probable model."
   ]
  },
  {
   "cell_type": "markdown",
   "metadata": {
    "nbgrader": {
     "grade": false,
     "locked": true,
     "solution": false
    }
   },
   "source": [
    "## Problem 2: High-dimensional regression (60 points)\n",
    "\n",
    "### Loading data\n",
    "\n",
    "**5 points:** In this problem, we will work with the Dow dataset. Import `pandas` and read in the `impurity_dataset-validation.xlsx` as a `pandas.DataFrame` with a variable name `df`. Note that the `impurity_dataset-validation.xlsx` is in the same folder as this jupyter notebook."
   ]
  },
  {
   "cell_type": "code",
   "execution_count": 56,
   "metadata": {
    "nbgrader": {
     "grade": false,
     "locked": false,
     "solution": false
    }
   },
   "outputs": [],
   "source": [
    "########################################\n",
    "# Start your code here\n",
    "import pandas as pd\n",
    "df = pd.read_excel('impurity_dataset-validation.xlsx')\n",
    "########################################"
   ]
  },
  {
   "cell_type": "code",
   "execution_count": 57,
   "metadata": {
    "nbgrader": {
     "grade": true,
     "grade_id": "read_pandas",
     "locked": true,
     "points": "5",
     "solution": false
    }
   },
   "outputs": [],
   "source": [
    "assert type(df) == pd.core.frame.DataFrame\n",
    "assert df.shape == (5959, 46)\n",
    "assert np.isclose(np.linalg.norm(df[df.columns[1:]].loc[2]), 3880.1035172616166)"
   ]
  },
  {
   "cell_type": "markdown",
   "metadata": {
    "nbgrader": {
     "grade": false,
     "locked": true,
     "solution": false
    }
   },
   "source": [
    "The cell below will clean the `df` to remove invalid cells and missing values. This cell create two variables `X` and `y` that will be the input feature matrix and corresponding impurity concentrations, respectively. "
   ]
  },
  {
   "cell_type": "code",
   "execution_count": 58,
   "metadata": {
    "nbgrader": {
     "grade": false,
     "locked": true,
     "solution": false
    }
   },
   "outputs": [],
   "source": [
    "def is_real_and_finite(x):\n",
    "    if not np.isreal(x):\n",
    "        return False\n",
    "    elif not np.isfinite(x):\n",
    "        return False\n",
    "    else:\n",
    "        return True\n",
    "\n",
    "all_data = df[df.columns[1:]].values #drop the first column (date)\n",
    "numeric_map = df[df.columns[1:]].applymap(is_real_and_finite)\n",
    "real_rows = numeric_map.all(axis=1).copy().values #True if all values in a row are real numbers\n",
    "X = np.array(all_data[real_rows,:-5], dtype='float') #drop the last 5 cols that are not inputs\n",
    "y = np.array(all_data[real_rows,-3], dtype='float')\n",
    "y = y.reshape(-1,1)"
   ]
  },
  {
   "cell_type": "markdown",
   "metadata": {
    "nbgrader": {
     "grade": false,
     "locked": true,
     "solution": false
    }
   },
   "source": [
    "### 2.1: LASSO regression\n",
    "\n",
    "In this problem, you will utilize LASSO regression to train a model that predicts the impurity concentration and interpret the results."
   ]
  },
  {
   "cell_type": "markdown",
   "metadata": {
    "nbgrader": {
     "grade": false,
     "locked": true,
     "solution": false
    }
   },
   "source": [
    "**10 points:** Train a LASSO model with the imported dataset and evalate its performance. More detailed instructions are below.\n",
    "\n",
    "- Do a train/test split on `X` and `y` by `train_test_split` with `test_size=0.3` and `random_state=42`. The training set and test set should be named as `*_train` and `*_test` where `*` denotes either `X` or `y`, respectively.\n",
    "- Declare a LASSO model with `alpha=1e-3` and `tol=0.1`. Assign the LASSO model to the variable `lasso`. \n",
    "- Assign the resulting  $\\mathrm{r^2}$ to a variable `r2`. "
   ]
  },
  {
   "cell_type": "code",
   "execution_count": 59,
   "metadata": {
    "scrolled": true
   },
   "outputs": [],
   "source": [
    "from sklearn.model_selection import train_test_split\n",
    "from sklearn.linear_model import Lasso\n",
    "\n",
    "########################################\n",
    "# Start your code here\n",
    "X_train, X_test, y_train, y_test = train_test_split(X, y, test_size = 0.3, random_state = 42)\n",
    "lasso = Lasso(alpha = 1e-3, tol=0.1)\n",
    "\n",
    "lasso.fit(X_train, y_train)\n",
    "r2 = lasso.score(X_test, y_test)\n",
    "########################################"
   ]
  },
  {
   "cell_type": "code",
   "execution_count": 60,
   "metadata": {
    "nbgrader": {
     "grade": true,
     "grade_id": "lasso",
     "locked": true,
     "points": "10",
     "solution": false
    }
   },
   "outputs": [],
   "source": [
    "assert np.isclose(r2, 0.3562523921897953)"
   ]
  },
  {
   "cell_type": "markdown",
   "metadata": {
    "nbgrader": {
     "grade": false,
     "locked": true,
     "solution": false
    }
   },
   "source": [
    "**5 points:** Next, you decide to optimize the regularization strength. You also know that the number of total parameters in the model is an important consideration. For the following regularization strengths, `alpha_list`, below calculate:\n",
    "\n",
    "* The $r^2$ score on the test set, stored as `r2_list`\n",
    "* The number of non-zero parameters in the model, stored as `N_parameter_list`\n",
    "* The optimal value of `alpha` stored as `alpha_opt`\n",
    "\n",
    "Use `tol=0.1` for all values of `alpha`.\n",
    "\n",
    "**Hint:** You may want to use the `count` method of lists. "
   ]
  },
  {
   "cell_type": "code",
   "execution_count": 71,
   "metadata": {},
   "outputs": [],
   "source": [
    "alpha_list = [1e-3, 1e-2, 1e-1, 0.5, 1, 10]\n",
    "\n",
    "########################################\n",
    "# Start your code here\n",
    "r2_list = []\n",
    "N_parameter_list = []\n",
    "for alpha in alpha_list:\n",
    "    lasso = Lasso(alpha = alpha, tol=0.1)\n",
    "\n",
    "    lasso.fit(X_train, y_train)\n",
    "    r2 = lasso.score(X_test, y_test)\n",
    "    coefs = lasso.coef_\n",
    "    N = len(coefs) - list(coefs).count(0)\n",
    "    r2_list.append(r2)\n",
    "    N_parameter_list.append(N)\n",
    "########################################"
   ]
  },
  {
   "cell_type": "code",
   "execution_count": 72,
   "metadata": {
    "nbgrader": {
     "grade": true,
     "grade_id": "lasso_hyperparams",
     "locked": true,
     "points": "5",
     "solution": false
    }
   },
   "outputs": [],
   "source": [
    "assert np.isclose(np.sum([a*b for a,b in zip(r2_list, N_parameter_list)]), 27.711765627621812)"
   ]
  },
  {
   "cell_type": "markdown",
   "metadata": {
    "nbgrader": {
     "grade": false,
     "locked": true,
     "solution": false
    }
   },
   "source": [
    "**5 points:** Plot the $r^2$ score and the number of parameters as a function of $log_{10}(\\alpha)$."
   ]
  },
  {
   "cell_type": "code",
   "execution_count": 84,
   "metadata": {},
   "outputs": [
    {
     "data": {
      "text/plain": [
       "Text(0, 0.5, 'number of parameters')"
      ]
     },
     "execution_count": 84,
     "metadata": {},
     "output_type": "execute_result"
    },
    {
     "data": {
      "image/png": "[encoded data removed]",
      "text/plain": [
       "<Figure size 360x576 with 2 Axes>"
      ]
     },
     "metadata": {
      "needs_background": "light"
     },
     "output_type": "display_data"
    }
   ],
   "source": [
    "########################################\n",
    "# Start your code here\n",
    "fig, axes = plt.subplots(2,1, figsize=(5, 8))\n",
    "axes[0].plot(np.log10(alpha_list), r2_list, 'ok')\n",
    "axes[0].set_xlabel(r'$log_{10} \\alpha $')\n",
    "axes[0].set_ylabel(r'$r^2$')\n",
    "\n",
    "axes[1].plot(np.log10(alpha_list), N_parameter_list, 'or')\n",
    "axes[1].set_xlabel(r'$log_{10} \\alpha $')\n",
    "axes[1].set_ylabel(r'number of parameters')\n",
    "########################################"
   ]
  },
  {
   "cell_type": "markdown",
   "metadata": {
    "nbgrader": {
     "grade": false,
     "locked": true,
     "solution": false
    }
   },
   "source": [
    "### 2.2 PCA regression "
   ]
  },
  {
   "cell_type": "markdown",
   "metadata": {
    "nbgrader": {
     "grade": false,
     "locked": true,
     "solution": false
    }
   },
   "source": [
    "**5 points:** You are unsatisfied with the results of the LASSO model and decide to try principal component analysis (PCA) instead. Utilize any implementation of PCA you would like to project the **training data** onto two principal component vectors.\n",
    "\n",
    "Save the projected data as `PCA_train_2d`. \n",
    "\n",
    "**Hint:** It is recommended that you save the full PCA projection as `PCA_train` for subsequent parts of the problem.\n",
    "\n",
    "**Note:** The `scikit-learn` implementation of PCA is used for the auto-grader tests."
   ]
  },
  {
   "cell_type": "code",
   "execution_count": 86,
   "metadata": {},
   "outputs": [],
   "source": [
    "########################################\n",
    "# Start your code here\n",
    "from sklearn.decomposition import PCA\n",
    "\n",
    "pca = PCA()\n",
    "PCA_train = pca.fit_transform(X_train)\n",
    "PCA_train_2d = PCA_train[:,:2]\n",
    "########################################"
   ]
  },
  {
   "cell_type": "code",
   "execution_count": 87,
   "metadata": {
    "nbgrader": {
     "grade": true,
     "grade_id": "PCA_train",
     "locked": true,
     "points": "5",
     "solution": false
    }
   },
   "outputs": [],
   "source": [
    "assert PCA_train_2d.shape == (3967, 2)\n",
    "assert np.isclose(np.linalg.norm(PCA_train_2d), 13713.628922882413)"
   ]
  },
  {
   "cell_type": "markdown",
   "metadata": {
    "nbgrader": {
     "grade": false,
     "locked": true,
     "solution": false
    }
   },
   "source": [
    "**5 points:** Next, you realize that you also need to project the **testing data** onto the principal components. Save the resulting projection as `PCA_test_2d`."
   ]
  },
  {
   "cell_type": "code",
   "execution_count": 88,
   "metadata": {},
   "outputs": [],
   "source": [
    "########################################\n",
    "# Start your code here\n",
    "PCA_test = pca.transform(X_test)\n",
    "PCA_test_2d = PCA_test[:, :2]\n",
    "########################################"
   ]
  },
  {
   "cell_type": "code",
   "execution_count": 89,
   "metadata": {
    "nbgrader": {
     "grade": true,
     "grade_id": "PCA_test",
     "locked": true,
     "points": "5",
     "solution": false
    }
   },
   "outputs": [],
   "source": [
    "assert PCA_test_2d.shape == (1701, 2)\n",
    "assert np.isclose(np.linalg.norm(PCA_test_2d), 8839.228124388832)"
   ]
  },
  {
   "cell_type": "markdown",
   "metadata": {
    "nbgrader": {
     "grade": false,
     "locked": true,
     "solution": false
    }
   },
   "source": [
    "**5 points:** Create a scatter plot of the data projected onto the first two principal components. The x-axis should be labeled as '1st principal component' and the y-axis should be labeled as '2nd principal component', and each point on the scatter plot should correspond to a point in the train/test set. Use different colors for the train/test set points.\n",
    "\n",
    "**Hint:** You may want to use `alpha=0.3` to make transparent points so that it is clearer when multiple points are on top of each other."
   ]
  },
  {
   "cell_type": "code",
   "execution_count": 90,
   "metadata": {},
   "outputs": [
    {
     "data": {
      "image/png": "[encoded data removed]",
      "text/plain": [
       "<Figure size 750x675 with 1 Axes>"
      ]
     },
     "metadata": {
      "needs_background": "light"
     },
     "output_type": "display_data"
    }
   ],
   "source": [
    "########################################\n",
    "# Start your code here\n",
    "fig, ax = plt.subplots(figsize = (5, 4.5), dpi = 150)\n",
    "ax.scatter(PCA_train[:, 0], PCA_train[:, 1], c='b', alpha = .3)\n",
    "ax.scatter(PCA_test[:, 0], PCA_test[:, 1], c='r', alpha = .3)\n",
    "ax.set_xlabel('1st principal component')\n",
    "ax.set_ylabel('2nd principal component');\n",
    "########################################"
   ]
  },
  {
   "cell_type": "markdown",
   "metadata": {
    "nbgrader": {
     "grade": false,
     "locked": true,
     "solution": false
    }
   },
   "source": [
    "**5 points:** Next, you will train a linear regression model to predict the y data with each individual principal component and see how the model performance changes for each of the principal components, where you will evaluate the performance using the $r^2$ score on the **test set**. You should use an intercept term in the linear regression, and may use any strategy you like to perform the linear regression (the auto-grader value is determined with the `scikit-learn` implementation).\n",
    "\n",
    "* Save the resulting list of $r^2$ values corresponding to each principal component as `r2_PC_list`.\n",
    "* Create a plot of $r^2$  vs. principal component vector number. "
   ]
  },
  {
   "cell_type": "code",
   "execution_count": 94,
   "metadata": {},
   "outputs": [
    {
     "data": {
      "image/png": "[encoded data removed]",
      "text/plain": [
       "<Figure size 1500x675 with 1 Axes>"
      ]
     },
     "metadata": {
      "needs_background": "light"
     },
     "output_type": "display_data"
    }
   ],
   "source": [
    "from sklearn.linear_model import LinearRegression\n",
    "\n",
    "r2_PC_list = []\n",
    "\n",
    "for i in range(PCA_train.shape[1]):\n",
    "    lr = LinearRegression(fit_intercept = True)\n",
    "    lr.fit(PCA_train[:, i].reshape(-1, 1), y_train)\n",
    "    r2_PC_list.append(lr.score(PCA_test[:, i].reshape(-1, 1), y_test))\n",
    "    \n",
    "fig, ax = plt.subplots(figsize = (10, 4.5), dpi = 150)\n",
    "ax.plot(range(1, 41), r2_PC_list, 'o')\n",
    "ax.set_xlabel('i-th principal component')\n",
    "ax.set_ylabel('$\\mathrm{r^2}$');"
   ]
  },
  {
   "cell_type": "code",
   "execution_count": 95,
   "metadata": {
    "nbgrader": {
     "grade": true,
     "grade_id": "r2_PCA_LR",
     "locked": true,
     "points": "5",
     "solution": false
    }
   },
   "outputs": [],
   "source": [
    "assert np.isclose(sum(r2_PC_list), 0.3382811635117108)"
   ]
  },
  {
   "cell_type": "markdown",
   "metadata": {
    "nbgrader": {
     "grade": false,
     "locked": true,
     "solution": false
    }
   },
   "source": [
    "**5 points:** Finally, you decide to create a new linear regression model that utilizes the **first 15 principal components**. Evaluate the resulting $r^2$ score and save it as `r2_15PCs`."
   ]
  },
  {
   "cell_type": "code",
   "execution_count": 96,
   "metadata": {},
   "outputs": [],
   "source": [
    "########################################\n",
    "# Start your code here\n",
    "lr = LinearRegression(fit_intercept = True)\n",
    "\n",
    "some_PCs_train = PCA_train[:, :15]\n",
    "\n",
    "lr.fit(some_PCs_train, y_train)\n",
    "\n",
    "some_PCs_test = PCA_test[:, :15]\n",
    "\n",
    "r2_15PCs = lr.score(some_PCs_test, y_test)\n",
    "########################################"
   ]
  },
  {
   "cell_type": "code",
   "execution_count": 97,
   "metadata": {
    "nbgrader": {
     "grade": true,
     "grade_id": "r2_15_PCs",
     "locked": true,
     "points": "5",
     "solution": false
    }
   },
   "outputs": [],
   "source": [
    "assert np.isclose(r2_15PCs, 0.34346202341681553) "
   ]
  },
  {
   "cell_type": "markdown",
   "metadata": {
    "nbgrader": {
     "grade": false,
     "locked": true,
     "solution": false
    }
   },
   "source": [
    "**10 points:** Your supervisor asks you to identify the best model that depends on 15 or fewer process parameters. Based on the analysis in **both 2.1 and 2.2** which model would you recommend? Justify your choice in terms of the accuracy and the number of process parameters needed to make predictions.\n",
    "\n",
    "**Hint:** You should be able to answer this question even if you were not able to solve any of the problems above."
   ]
  },
  {
   "cell_type": "markdown",
   "metadata": {
    "jupyter": {
     "outputs_hidden": true
    }
   },
   "source": [
    "#### The LASSO model is the only viable option since there is a requirement that the model only depends on 15 process parameters. PCA utilizes all \"process parameters\" (e.g. original columns of the data table) even though it projects onto a fewer number of dimensions. It is not possible to find the PCA projection of a new data point without knowledge of all of the original \"process parameter\" features. Put differently, PCA is a feature engineering and dimensional reduction tool, but it is does not select features from the original dataset.\n",
    "\n",
    "#### It is also worth noting that the r^2 values for the LASSO model with 15 input features was very similar to the result with 15 PC's, so the argument of significantly higher accuracy does not hold here."
   ]
  },
  {
   "cell_type": "markdown",
   "metadata": {
    "nbgrader": {
     "grade": false,
     "locked": true,
     "solution": false
    }
   },
   "source": [
    "## Problem 3: Classification\n",
    "\n",
    "In this problem, you will work with a subset of the perovskite dataset, where we will only consider the radius of A, B, and X ions as possible features. The codeblock below reads the data in and stores it to the `X_perov` and `y_perov` matrices."
   ]
  },
  {
   "cell_type": "code",
   "execution_count": 98,
   "metadata": {
    "nbgrader": {
     "grade": false,
     "locked": true,
     "solution": false
    }
   },
   "outputs": [],
   "source": [
    "from sklearn.model_selection import train_test_split\n",
    "\n",
    "df = pd.read_csv('perovskite_data.csv')\n",
    "\n",
    "X_perov = df[['rA (Ang)', 'rB (Ang)', 'rX (Ang)']].values\n",
    "y_perov = df['exp_label'].values"
   ]
  },
  {
   "cell_type": "markdown",
   "metadata": {
    "nbgrader": {
     "grade": false,
     "locked": true,
     "solution": false
    }
   },
   "source": [
    "**15 points:** Using a classification algorithm of your choice, construct and optimize a classification model. The following are the requirements for full credit:\n",
    "\n",
    "* You should use the *validation* set defined below to evaluate the accuracy.\n",
    "* You should only use the features defined above.\n",
    "* You should optimize at least one hyperparameter by checking at least 5 different values and print the optimal hyperparameter(s) that results in the highest accuracy score on the *validation set*.\n",
    "* You should show that the optimal model achieves accuracy, precision, and recall of $>$90% (each one should be $>$90%) on the *validation* set.\n",
    "* You should plot the confusion matrix for the *validation set*."
   ]
  },
  {
   "cell_type": "code",
   "execution_count": 108,
   "metadata": {
    "nbgrader": {
     "grade": false,
     "locked": true,
     "solution": false
    }
   },
   "outputs": [],
   "source": [
    "from sklearn.model_selection import train_test_split\n",
    "\n",
    "X_train, X_val, y_train, y_val = train_test_split(X_perov, y_perov, test_size = .5, random_state = 1017)"
   ]
  },
  {
   "cell_type": "markdown",
   "metadata": {},
   "source": [
    "**One possible solution:**"
   ]
  },
  {
   "cell_type": "code",
   "execution_count": 109,
   "metadata": {},
   "outputs": [
    {
     "name": "stdout",
     "output_type": "stream",
     "text": [
      "0.9097222222222222 0.93125 0.9085365853658537\n"
     ]
    }
   ],
   "source": [
    "########################################\n",
    "# Start your code here\n",
    "from sklearn.tree import DecisionTreeClassifier\n",
    "from sklearn.metrics import accuracy_score, precision_score, recall_score\n",
    "\n",
    "depths = range(2, 20)\n",
    "\n",
    "opt_acc = 0\n",
    "for depth in depths:\n",
    "    dtree = DecisionTreeClassifier(max_depth = depth)\n",
    "    dtree.fit(X_train, y_train)\n",
    "\n",
    "    if opt_acc < dtree.score(X_val, y_val):\n",
    "        opt_depth = depth\n",
    "        opt_acc = dtree.score(X_val, y_val)\n",
    "        \n",
    "dtree = DecisionTreeClassifier(max_depth = opt_depth)\n",
    "dtree.fit(X_train, y_train)\n",
    "\n",
    "acc = accuracy_score(y_val, dtree.predict(X_val))\n",
    "prec = precision_score(y_val, dtree.predict(X_val))\n",
    "rec = recall_score(y_val, dtree.predict(X_val))\n",
    "\n",
    "print(acc, prec, rec)\n",
    "########################################"
   ]
  },
  {
   "cell_type": "code",
   "execution_count": 110,
   "metadata": {},
   "outputs": [
    {
     "data": {
      "text/plain": [
       "(0, 2)"
      ]
     },
     "execution_count": 110,
     "metadata": {},
     "output_type": "execute_result"
    },
    {
     "data": {
      "image/png": "[encoded data removed]",
      "text/plain": [
       "<Figure size 750x675 with 1 Axes>"
      ]
     },
     "metadata": {
      "needs_background": "light"
     },
     "output_type": "display_data"
    }
   ],
   "source": [
    "from sklearn.metrics import confusion_matrix\n",
    "\n",
    "cm = confusion_matrix(y_val, dtree.predict(X_val))\n",
    "\n",
    "import seaborn as sns\n",
    "\n",
    "fig, ax = plt.subplots(figsize = (5, 4.5), dpi = 150)\n",
    "sns.heatmap(cm, ax = ax, annot = True, fmt = \"d\", cbar = False)\n",
    "ax.set_ylim([0,2])"
   ]
  },
  {
   "cell_type": "code",
   "execution_count": null,
   "metadata": {},
   "outputs": [],
   "source": []
  }
 ],
 "metadata": {
  "kernelspec": {
   "display_name": "Python 3",
   "language": "python",
   "name": "python3"
  },
  "language_info": {
   "codemirror_mode": {
    "name": "ipython",
    "version": 3
   },
   "file_extension": ".py",
   "mimetype": "text/x-python",
   "name": "python",
   "nbconvert_exporter": "python",
   "pygments_lexer": "ipython3",
   "version": "3.7.4"
  }
 },
 "nbformat": 4,
 "nbformat_minor": 4
}
