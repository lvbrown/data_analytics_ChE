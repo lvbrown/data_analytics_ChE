{
 "cells": [
  {
   "cell_type": "markdown",
   "metadata": {
    "nbgrader": {
     "grade": false,
     "locked": true,
     "solution": false
    }
   },
   "source": [
    "# Auto-graded section\n",
    "\n",
    "The block below imports necessary packages. "
   ]
  },
  {
   "cell_type": "code",
   "execution_count": 2,
   "metadata": {
    "collapsed": true,
    "nbgrader": {
     "grade": false,
     "locked": true,
     "solution": false
    }
   },
   "outputs": [],
   "source": [
    "import numpy as np\n",
    "import pandas as pd\n",
    "import pylab as plt\n",
    "import seaborn as sns"
   ]
  },
  {
   "cell_type": "markdown",
   "metadata": {
    "nbgrader": {
     "grade": false,
     "locked": true,
     "solution": false
    }
   },
   "source": [
    "In this part of the assignment, you will work with the Dow dataset and MNIST dataset. Both datasets are provided below."
   ]
  },
  {
   "cell_type": "code",
   "execution_count": 32,
   "metadata": {
    "nbgrader": {
     "grade": false,
     "locked": true,
     "solution": false
    }
   },
   "outputs": [],
   "source": [
    "# Dow Dataset\n",
    "df = pd.read_excel('impurity_dataset-training.xlsx')\n",
    "\n",
    "def is_real_and_finite(x):\n",
    "    if not np.isreal(x):\n",
    "        return False\n",
    "    elif not np.isfinite(x):\n",
    "        return False\n",
    "    else:\n",
    "        return True\n",
    "    \n",
    "all_data = df[df.columns[1:]].values\n",
    "numeric_map = df[df.columns[1:]].applymap(is_real_and_finite)\n",
    "real_rows = numeric_map.all(axis = 1).copy().values\n",
    "X_dow = np.array(all_data[real_rows, :-5], dtype = 'float')\n",
    "y_dow = np.array(all_data[real_rows, -3], dtype = 'float')\n",
    "y = y_dow.reshape(-1, 1)\n",
    "\n",
    "# MNIST Dataset\n",
    "from sklearn.datasets import load_digits\n",
    "\n",
    "digits = load_digits()\n",
    "\n",
    "X_mnist = np.array(digits.data)\n",
    "y_mnist = np.array(digits.target)"
   ]
  },
  {
   "cell_type": "markdown",
   "metadata": {
    "nbgrader": {
     "grade": false,
     "locked": true,
     "solution": false
    }
   },
   "source": [
    "## 1. Partial Least Squares (25 pts)\n",
    "\n",
    "Partial least squares regression (PLS regression) is a supervised algorithm that finds **linear** combinations of features that maximize the covariance between features.\n",
    "\n",
    "### 1a: Import `PLSRegression` (5 pts)\n",
    "\n",
    "Import the `sklearn.cross_decomposition.PLSRegression` object."
   ]
  },
  {
   "cell_type": "code",
   "execution_count": 33,
   "metadata": {
    "collapsed": true
   },
   "outputs": [],
   "source": [
    "########################################\n",
    "# Start your code here\n",
    "from sklearn.cross_decomposition import PLSRegression\n",
    "########################################"
   ]
  },
  {
   "cell_type": "code",
   "execution_count": 36,
   "metadata": {
    "collapsed": true,
    "nbgrader": {
     "grade": true,
     "grade_id": "p1-1",
     "locked": true,
     "points": "5",
     "solution": false
    }
   },
   "outputs": [],
   "source": [
    "assert PLSRegression.__init__"
   ]
  },
  {
   "cell_type": "markdown",
   "metadata": {},
   "source": [
    "### 1b: Standardization (5 pts)\n",
    "\n",
    "Standardize `X_dow` and save the resulting matrix to `X_scaled`."
   ]
  },
  {
   "cell_type": "code",
   "execution_count": 37,
   "metadata": {},
   "outputs": [],
   "source": [
    "########################################\n",
    "# Start your code here\n",
    "from sklearn.preprocessing import StandardScaler\n",
    "\n",
    "X_scaled = StandardScaler().fit_transform(X_dow)\n",
    "########################################"
   ]
  },
  {
   "cell_type": "code",
   "execution_count": 38,
   "metadata": {
    "collapsed": true,
    "nbgrader": {
     "grade": true,
     "grade_id": "p1-2",
     "locked": true,
     "points": "5",
     "solution": false
    }
   },
   "outputs": [],
   "source": [
    "assert np.isclose(X_scaled.mean(axis = 0), 0).all()\n",
    "assert np.isclose(X_scaled.std(axis = 0), 1).all()"
   ]
  },
  {
   "cell_type": "markdown",
   "metadata": {
    "nbgrader": {
     "grade": false,
     "locked": true,
     "solution": false
    }
   },
   "source": [
    "### 1c: PLS Regression (5 pts)\n",
    "\n",
    "Declare a `PLSRegression` object `pls` with `n_components = 5`. Train `pls` with `X_scaled` and `y`. Report the $\\mathrm{r^2}$ as `pls_r2`."
   ]
  },
  {
   "cell_type": "code",
   "execution_count": 39,
   "metadata": {
    "collapsed": true
   },
   "outputs": [],
   "source": [
    "########################################\n",
    "# Start your code here\n",
    "pls = PLSRegression(n_components = 5)\n",
    "pls.fit(X_scaled, y)\n",
    "pls_r2 = pls.score(X_scaled, y)\n",
    "########################################"
   ]
  },
  {
   "cell_type": "code",
   "execution_count": 40,
   "metadata": {
    "collapsed": true,
    "nbgrader": {
     "grade": true,
     "grade_id": "p1-3",
     "locked": true,
     "points": "5",
     "solution": false
    }
   },
   "outputs": [],
   "source": [
    "assert pls.n_components == 5\n",
    "assert np.isclose(pls_r2, 0.6533602447390862)"
   ]
  },
  {
   "cell_type": "markdown",
   "metadata": {
    "nbgrader": {
     "grade": false,
     "locked": true,
     "solution": false
    }
   },
   "source": [
    "### 1d: Achieving $\\mathrm{r^2}$ of 0.68 (7.5 pts)\n",
    "\n",
    "Find the minimum `n_components` with which $\\mathrm{r^2}$ is above 0.68 when `PLSRegression` is trained and tested on `X_scaled` and `y`. Report the number as `min_n_comp` and the corresponding $\\mathrm{r^2}$ as `r2_n_comp`."
   ]
  },
  {
   "cell_type": "code",
   "execution_count": 41,
   "metadata": {
    "collapsed": true
   },
   "outputs": [],
   "source": [
    "########################################\n",
    "# Start your code here\n",
    "n = 1\n",
    "r2 = 0\n",
    "\n",
    "while r2 < 0.68:\n",
    "    n += 1\n",
    "    \n",
    "    pls = PLSRegression(n_components = n)\n",
    "    pls.fit(X_scaled, y)\n",
    "    r2 = pls.score(X_scaled, y)\n",
    "    \n",
    "min_n_comp = n\n",
    "r2_n_comp = r2\n",
    "########################################"
   ]
  },
  {
   "cell_type": "code",
   "execution_count": 42,
   "metadata": {
    "collapsed": true,
    "nbgrader": {
     "grade": true,
     "grade_id": "p1-4",
     "locked": true,
     "points": "7.5",
     "solution": false
    }
   },
   "outputs": [],
   "source": [
    "assert np.isclose(min_n_comp * r2_n_comp, 5.455616652135625)"
   ]
  },
  {
   "cell_type": "markdown",
   "metadata": {
    "nbgrader": {
     "grade": false,
     "locked": true,
     "solution": false
    }
   },
   "source": [
    "### 1e: Feature transformation (2.5 pts)\n",
    "\n",
    "Transform the features and reduce the dimensionality to `min_n_comp`. Name the matrix of transformed features `X_pls`."
   ]
  },
  {
   "cell_type": "code",
   "execution_count": 43,
   "metadata": {
    "collapsed": true
   },
   "outputs": [],
   "source": [
    "########################################\n",
    "# Start your code here\n",
    "pls = PLSRegression(n_components = min_n_comp)\n",
    "pls.fit(X_scaled, y)\n",
    "\n",
    "X_pls = pls.transform(X_scaled)\n",
    "########################################"
   ]
  },
  {
   "cell_type": "code",
   "execution_count": 44,
   "metadata": {
    "collapsed": true,
    "nbgrader": {
     "grade": true,
     "grade_id": "p1-5",
     "locked": true,
     "points": "2.5",
     "solution": false
    }
   },
   "outputs": [],
   "source": [
    "assert X_pls.shape[0] == 10297\n",
    "assert X_pls.shape[1] == min_n_comp\n",
    "assert np.isclose(np.linalg.norm(X_pls), 537.5375896752992)"
   ]
  },
  {
   "cell_type": "markdown",
   "metadata": {
    "nbgrader": {
     "grade": false,
     "locked": true,
     "solution": false
    }
   },
   "source": [
    "## 2. Linear Discriminant Analysis (25 pts)\n",
    "\n",
    "LDA finds a **linear** combination of features that separates two or more classes or labels.\n",
    "\n",
    "### 2a: Import `LinearDiscriminantAnalysis` (7.5 pts)\n",
    "\n",
    "Import the `sklearn.discriminant_analysis.LinearDiscriminantAnalysis` object."
   ]
  },
  {
   "cell_type": "code",
   "execution_count": 47,
   "metadata": {
    "collapsed": true
   },
   "outputs": [],
   "source": [
    "########################################\n",
    "# Start your code here\n",
    "from sklearn.discriminant_analysis import LinearDiscriminantAnalysis\n",
    "########################################"
   ]
  },
  {
   "cell_type": "code",
   "execution_count": 48,
   "metadata": {
    "collapsed": true,
    "nbgrader": {
     "grade": true,
     "grade_id": "p2-1",
     "locked": true,
     "points": "7.5",
     "solution": false
    }
   },
   "outputs": [],
   "source": [
    "assert LinearDiscriminantAnalysis.__init__"
   ]
  },
  {
   "cell_type": "markdown",
   "metadata": {
    "nbgrader": {
     "grade": false,
     "locked": true,
     "solution": false
    }
   },
   "source": [
    "### 2b: LDA transformation (7.5 pts)\n",
    "\n",
    "Come up with `X_lda` which is a matrix of transformed features from `X_mnist` using LDA. Do not change any parameter settings of the `LinearDiscriminantAnalysis` object."
   ]
  },
  {
   "cell_type": "code",
   "execution_count": 49,
   "metadata": {
    "collapsed": true
   },
   "outputs": [],
   "source": [
    "########################################\n",
    "# Start your code here\n",
    "lda = LinearDiscriminantAnalysis()\n",
    "lda.fit(X_mnist, y_mnist)\n",
    "X_lda = lda.transform(X_mnist)\n",
    "########################################"
   ]
  },
  {
   "cell_type": "code",
   "execution_count": 50,
   "metadata": {
    "collapsed": true,
    "nbgrader": {
     "grade": true,
     "grade_id": "p2-2",
     "locked": true,
     "points": "7.5",
     "solution": false
    }
   },
   "outputs": [],
   "source": [
    "assert X_lda.shape[1] == 9\n",
    "assert np.isclose(X_lda[0].sum(), -8.929053278244288)"
   ]
  },
  {
   "cell_type": "markdown",
   "metadata": {
    "nbgrader": {
     "grade": false,
     "locked": true,
     "solution": false
    }
   },
   "source": [
    "### 2c: Apply k-Means (5 pts)\n",
    "\n",
    "Apply k-means clustering with `KMeans(n_clusters=10, random_state=42)` to `X_lda`. Report the clustering result as `y_kmeans`."
   ]
  },
  {
   "cell_type": "code",
   "execution_count": 53,
   "metadata": {
    "collapsed": true
   },
   "outputs": [],
   "source": [
    "########################################\n",
    "# Start your code here\n",
    "from sklearn.cluster import KMeans\n",
    "\n",
    "kmeans = KMeans(n_clusters = 10, random_state = 42)\n",
    "y_kmeans = kmeans.fit_predict(X_lda)\n",
    "########################################"
   ]
  },
  {
   "cell_type": "code",
   "execution_count": 54,
   "metadata": {
    "collapsed": true,
    "nbgrader": {
     "grade": true,
     "grade_id": "p2-3",
     "locked": true,
     "points": "5",
     "solution": false
    }
   },
   "outputs": [],
   "source": [
    "assert np.bincount(y_kmeans)[0] == 189\n",
    "assert np.bincount(y_kmeans)[-1] == 174"
   ]
  },
  {
   "cell_type": "markdown",
   "metadata": {
    "nbgrader": {
     "grade": false,
     "locked": true,
     "solution": false
    }
   },
   "source": [
    "### 2d: Assigning labels (5 pts)\n",
    "\n",
    "Define a function `assign_labels` that assigns a label to each cluster by using the most common label from the cluster. This step converts the clustering to a classification prediction. If the label **9** is most common in the cluster 1, all points belonging to that cluster should be labeled as 9. `assign_labels` takes the following arguments:\n",
    "\n",
    "- y: the original labels (numpy array, default: `y_mnist`)\n",
    "- y_hat: the clustering result (numpy array, default: `y_kmeans`)\n",
    "\n",
    "This function should return a numpy array `y_predict` in which a label is assigned to each data point."
   ]
  },
  {
   "cell_type": "code",
   "execution_count": 55,
   "metadata": {
    "collapsed": true
   },
   "outputs": [],
   "source": [
    "def assign_labels(y = y_mnist, y_hat = y_kmeans):\n",
    "########################################\n",
    "# Start your code here\n",
    "    y_predict = np.zeros(y.shape, dtype = 'int')\n",
    "    \n",
    "    for i in range(10):\n",
    "        collect_label = y[y_hat == i]\n",
    "        count_label = np.bincount(collect_label)\n",
    "        common_label = np.argmax(count_label)\n",
    "        \n",
    "        y_predict[y_hat == i] = common_label\n",
    "########################################\n",
    "    return y_predict"
   ]
  },
  {
   "cell_type": "code",
   "execution_count": 56,
   "metadata": {
    "collapsed": true,
    "nbgrader": {
     "grade": true,
     "grade_id": "p2-4",
     "locked": true,
     "points": "5",
     "solution": false
    }
   },
   "outputs": [],
   "source": [
    "y_predict = assign_labels()\n",
    "\n",
    "assert np.bincount(y_predict)[1] == 189\n",
    "assert np.bincount(y_predict)[4] == 175"
   ]
  },
  {
   "cell_type": "markdown",
   "metadata": {
    "nbgrader": {
     "grade": false,
     "locked": true,
     "solution": false
    }
   },
   "source": [
    "# Peer-graded section"
   ]
  },
  {
   "cell_type": "markdown",
   "metadata": {
    "nbgrader": {
     "grade": false,
     "locked": true,
     "solution": false
    }
   },
   "source": [
    "In this part of the assignment, you will work with the perovskite dataset and MNIST dataset. Both datasets are provided below."
   ]
  },
  {
   "cell_type": "code",
   "execution_count": 57,
   "metadata": {
    "collapsed": true
   },
   "outputs": [],
   "source": [
    "# Perovskite Dataset\n",
    "perov = pd.read_csv('perovskite_data.csv')\n",
    "\n",
    "# MNIST Dataset\n",
    "from sklearn.datasets import load_digits\n",
    "\n",
    "digits = load_digits()\n",
    "\n",
    "X_mnist = np.array(digits.data)\n",
    "y_mnist = np.array(digits.target)"
   ]
  },
  {
   "cell_type": "markdown",
   "metadata": {
    "nbgrader": {
     "grade": false,
     "locked": true,
     "solution": false
    }
   },
   "source": [
    "## 1. One-hot Encoding\n",
    "\n",
    "In this problem, you will play with the perovskite dataset.\n",
    "\n",
    "### 1a: One-hot encoded features\n",
    "\n",
    "Use the `X` column of the perovskite dataset (corresponding to the identity of the X ion in the $\\mathrm{ABX_3}$ coumpound) and create a matrix of one-hot encoded features from `X`. Show the first 10 rows of the matrix."
   ]
  },
  {
   "cell_type": "code",
   "execution_count": 58,
   "metadata": {},
   "outputs": [
    {
     "data": {
      "text/html": [
       "<div>\n",
       "<style scoped>\n",
       "    .dataframe tbody tr th:only-of-type {\n",
       "        vertical-align: middle;\n",
       "    }\n",
       "\n",
       "    .dataframe tbody tr th {\n",
       "        vertical-align: top;\n",
       "    }\n",
       "\n",
       "    .dataframe thead th {\n",
       "        text-align: right;\n",
       "    }\n",
       "</style>\n",
       "<table border=\"1\" class=\"dataframe\">\n",
       "  <thead>\n",
       "    <tr style=\"text-align: right;\">\n",
       "      <th></th>\n",
       "      <th>Br</th>\n",
       "      <th>Cl</th>\n",
       "      <th>F</th>\n",
       "      <th>I</th>\n",
       "      <th>O</th>\n",
       "    </tr>\n",
       "  </thead>\n",
       "  <tbody>\n",
       "    <tr>\n",
       "      <th>0</th>\n",
       "      <td>0</td>\n",
       "      <td>0</td>\n",
       "      <td>0</td>\n",
       "      <td>0</td>\n",
       "      <td>1</td>\n",
       "    </tr>\n",
       "    <tr>\n",
       "      <th>1</th>\n",
       "      <td>0</td>\n",
       "      <td>0</td>\n",
       "      <td>0</td>\n",
       "      <td>0</td>\n",
       "      <td>1</td>\n",
       "    </tr>\n",
       "    <tr>\n",
       "      <th>2</th>\n",
       "      <td>0</td>\n",
       "      <td>1</td>\n",
       "      <td>0</td>\n",
       "      <td>0</td>\n",
       "      <td>0</td>\n",
       "    </tr>\n",
       "    <tr>\n",
       "      <th>3</th>\n",
       "      <td>1</td>\n",
       "      <td>0</td>\n",
       "      <td>0</td>\n",
       "      <td>0</td>\n",
       "      <td>0</td>\n",
       "    </tr>\n",
       "    <tr>\n",
       "      <th>4</th>\n",
       "      <td>0</td>\n",
       "      <td>0</td>\n",
       "      <td>0</td>\n",
       "      <td>0</td>\n",
       "      <td>1</td>\n",
       "    </tr>\n",
       "    <tr>\n",
       "      <th>5</th>\n",
       "      <td>0</td>\n",
       "      <td>0</td>\n",
       "      <td>1</td>\n",
       "      <td>0</td>\n",
       "      <td>0</td>\n",
       "    </tr>\n",
       "    <tr>\n",
       "      <th>6</th>\n",
       "      <td>0</td>\n",
       "      <td>0</td>\n",
       "      <td>1</td>\n",
       "      <td>0</td>\n",
       "      <td>0</td>\n",
       "    </tr>\n",
       "    <tr>\n",
       "      <th>7</th>\n",
       "      <td>0</td>\n",
       "      <td>1</td>\n",
       "      <td>0</td>\n",
       "      <td>0</td>\n",
       "      <td>0</td>\n",
       "    </tr>\n",
       "    <tr>\n",
       "      <th>8</th>\n",
       "      <td>0</td>\n",
       "      <td>0</td>\n",
       "      <td>1</td>\n",
       "      <td>0</td>\n",
       "      <td>0</td>\n",
       "    </tr>\n",
       "    <tr>\n",
       "      <th>9</th>\n",
       "      <td>0</td>\n",
       "      <td>0</td>\n",
       "      <td>1</td>\n",
       "      <td>0</td>\n",
       "      <td>0</td>\n",
       "    </tr>\n",
       "  </tbody>\n",
       "</table>\n",
       "</div>"
      ],
      "text/plain": [
       "   Br  Cl  F  I  O\n",
       "0   0   0  0  0  1\n",
       "1   0   0  0  0  1\n",
       "2   0   1  0  0  0\n",
       "3   1   0  0  0  0\n",
       "4   0   0  0  0  1\n",
       "5   0   0  1  0  0\n",
       "6   0   0  1  0  0\n",
       "7   0   1  0  0  0\n",
       "8   0   0  1  0  0\n",
       "9   0   0  1  0  0"
      ]
     },
     "execution_count": 58,
     "metadata": {},
     "output_type": "execute_result"
    }
   ],
   "source": [
    "X_onehot = pd.get_dummies(perov['X'])\n",
    "X_onehot.head(10)"
   ]
  },
  {
   "cell_type": "markdown",
   "metadata": {
    "nbgrader": {
     "grade": false,
     "locked": true,
     "solution": false
    }
   },
   "source": [
    "### 1b: Analyzing X ions\n",
    "\n",
    "Print the sum over all rows for each feature."
   ]
  },
  {
   "cell_type": "code",
   "execution_count": 59,
   "metadata": {},
   "outputs": [
    {
     "name": "stdout",
     "output_type": "stream",
     "text": [
      "Br     27\n",
      "Cl     71\n",
      "F      66\n",
      "I      43\n",
      "O     369\n",
      "dtype: int64\n"
     ]
    }
   ],
   "source": [
    "print(X_onehot.sum(axis = 0))"
   ]
  },
  {
   "cell_type": "markdown",
   "metadata": {
    "nbgrader": {
     "grade": false,
     "locked": true,
     "solution": false
    }
   },
   "source": [
    "Briefly describe how to interpret the result of the sum over all rows."
   ]
  },
  {
   "cell_type": "markdown",
   "metadata": {
    "nbgrader": {
     "grade": false,
     "locked": true,
     "solution": false
    }
   },
   "source": [
    "**Answer**\n",
    "\n",
    "The sum over all rows will be the number of composites that contain the element as `X` in $\\mathrm{ABX_3}$ formula."
   ]
  },
  {
   "cell_type": "markdown",
   "metadata": {
    "nbgrader": {
     "grade": false,
     "locked": true,
     "solution": false
    }
   },
   "source": [
    "### 1c: One-hot encoding and categorical variables\n",
    "\n",
    "Consider a dataset consisting of a single categorical variable with a total of **N** datapoints and corresponding outputs, $y$. Assume that each datapoint has a unique category label such that there are **N** distinct categories. You apply one-hot encoding to create a new feature matrix $\\bar{\\bar{X}}$ and decide to fit a linear regression model:\n",
    "\n",
    "$\\vec{y}=\\bar{\\bar{X}}\\vec{w}$\n",
    "\n",
    "What will the optimal values of $\\vec{w}$ be and the $\\mathrm{r^2}$ be? You can use code, math, or a conceptual explanation to answer this question."
   ]
  },
  {
   "cell_type": "markdown",
   "metadata": {},
   "source": [
    "**Answer**\n",
    "\n",
    "The optimal values of $\\vec{w}$ will be $\\vec{y}$. Applying one-hot encoding to **N** distinct categories with **N** datapoints will result in an **N x N** identity matrix in which case $\\vec{w}$ will be identical to $\\vec{y}$."
   ]
  },
  {
   "cell_type": "markdown",
   "metadata": {
    "nbgrader": {
     "grade": false,
     "locked": true,
     "solution": false
    }
   },
   "source": [
    "## 2. PCA vs. LDA\n",
    "\n",
    "In this problem, you will play with the MNIST dataset. You will compare the performance of LDA with PCA by visualizing classfication results as a confustion matrix. You may find the `assign_labels` function from the Skill Check very useful for the following problems.\n",
    "\n",
    "### 2a: PCA\n",
    "\n",
    "Show a confusion matrix after going through the following steps:\n",
    "\n",
    "- Apply PCA to the MNIST dataset and reduce the dimensionality to 9.\n",
    "- Apply k-means clustering to the PCA transformed data with `n_clusters=10`.\n",
    "- Assign a label to each cluster by using the most common label from the cluster.\n",
    "- Create a confusion matrix that compares the original label vs. assigned label"
   ]
  },
  {
   "cell_type": "code",
   "execution_count": 60,
   "metadata": {},
   "outputs": [
    {
     "data": {
      "image/png": "[encoded data removed]",
      "text/plain": [
       "<Figure size 900x750 with 2 Axes>"
      ]
     },
     "metadata": {
      "needs_background": "light"
     },
     "output_type": "display_data"
    }
   ],
   "source": [
    "from sklearn.decomposition import PCA\n",
    "from sklearn.cluster import KMeans\n",
    "\n",
    "pca = PCA(n_components = 9)\n",
    "X_pca = pca.fit_transform(X_mnist)\n",
    "\n",
    "kmeans = KMeans(n_clusters = 10)\n",
    "y_pca = kmeans.fit_predict(X_pca)\n",
    "\n",
    "y_predict_pca = np.zeros(y_mnist.shape)\n",
    "\n",
    "for i in range(10):\n",
    "    collect_label = y_mnist[y_pca == i]\n",
    "    count_label = np.bincount(collect_label)\n",
    "    common_label = np.argmax(count_label)\n",
    "    \n",
    "    y_predict_pca[y_pca == i] = common_label\n",
    "    \n",
    "from sklearn.metrics import confusion_matrix\n",
    "import seaborn as sns\n",
    "\n",
    "cm = confusion_matrix(y_mnist, y_predict_pca)\n",
    "fig, ax = plt.subplots(figsize = (6, 5), dpi = 150)\n",
    "sns.heatmap(cm, annot = True, fmt = 'd', ax = ax);"
   ]
  },
  {
   "cell_type": "markdown",
   "metadata": {
    "nbgrader": {
     "grade": false,
     "locked": true,
     "solution": false
    }
   },
   "source": [
    "### 2b: LDA\n",
    "\n",
    "Show a confusion matrix by following the same steps above using LDA instead of PCA."
   ]
  },
  {
   "cell_type": "code",
   "execution_count": 61,
   "metadata": {},
   "outputs": [
    {
     "data": {
      "image/png": "[encoded data removed]",
      "text/plain": [
       "<Figure size 900x750 with 2 Axes>"
      ]
     },
     "metadata": {
      "needs_background": "light"
     },
     "output_type": "display_data"
    }
   ],
   "source": [
    "from sklearn.discriminant_analysis import LinearDiscriminantAnalysis\n",
    "\n",
    "lda = LinearDiscriminantAnalysis()\n",
    "lda.fit(X_mnist, y_mnist)\n",
    "X_lda = lda.transform(X_mnist)\n",
    "\n",
    "kmeans = KMeans(n_clusters = 10)\n",
    "y_lda = kmeans.fit_predict(X_lda)\n",
    "\n",
    "y_predict_lda = np.zeros(y_mnist.shape)\n",
    "\n",
    "for i in range(10):\n",
    "    collect_label = y_mnist[y_lda == i]\n",
    "    count_label = np.bincount(collect_label)\n",
    "    common_label = np.argmax(count_label)\n",
    "    \n",
    "    y_predict_lda[y_lda == i] = common_label\n",
    "    \n",
    "fig, ax = plt.subplots(figsize = (6, 5), dpi = 150)\n",
    "cm = confusion_matrix(y_mnist, y_predict_lda)\n",
    "sns.heatmap(cm, annot = True, fmt = 'd', ax = ax);"
   ]
  },
  {
   "cell_type": "markdown",
   "metadata": {
    "nbgrader": {
     "grade": false,
     "locked": true,
     "solution": false
    }
   },
   "source": [
    "### 2c: Discussion\n",
    "\n",
    "Briefly discuss the results."
   ]
  },
  {
   "cell_type": "markdown",
   "metadata": {},
   "source": [
    "**Answer**\n",
    "\n",
    "Clustering performs much better for the LDA-projected data as compared to the PCA-projected data. The PCA-projected data struggles identifying **1** and **9** and there are much less mispredictions for the LDA-projected data."
   ]
  }
 ],
 "metadata": {
  "kernelspec": {
   "display_name": "Python 3.8",
   "language": "python",
   "name": "python38"
  },
  "language_info": {
   "codemirror_mode": {
    "name": "ipython",
    "version": 3
   },
   "file_extension": ".py",
   "mimetype": "text/x-python",
   "name": "python",
   "nbconvert_exporter": "python",
   "pygments_lexer": "ipython3",
   "version": "3.8.7"
  }
 },
 "nbformat": 4,
 "nbformat_minor": 2
}
