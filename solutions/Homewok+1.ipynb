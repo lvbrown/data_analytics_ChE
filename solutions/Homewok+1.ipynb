{
 "cells": [
  {
   "cell_type": "markdown",
   "metadata": {
    "nbgrader": {
     "grade": false,
     "locked": true,
     "solution": false
    }
   },
   "source": [
    "# Homework 1\n",
    "\n",
    "Welcome to the first homework of the course! Every homework in this course will consist of two parts: the first part is auto-graded and the second part is peer-graded. Throughout this semester, you will consistently work with `Jupyter Notebooks`, which is a great tool to make use of and run `Python` interactively on your laptop/desktop. To launch `Jupyter Notebooks` on your device, you should first install **Anaconda** and you can find installation instructions [here](https://docs.anaconda.com/anaconda/install).\n",
    "\n",
    "If you are unfamiliar with `Jupyter Notebooks` you may wish to check out some tutorials. These notebooks are widely used in data science, so you can find a lot of useful information by \"googling\" (this is true of many topics in this course). For example, this [beginners tutorial](https://www.dataquest.io/blog/jupyter-notebook-tutorial/) is a good starting point. It is **highly recommended** that you learn to install and run `Jupyter Notebooks` on your own computer. However, for many Python beginners, especially those more familiar with MATLAB, the [Spyder](https://www.spyder-ide.org/) IDE might seem more familiar. You can always write/test code in Spyder (or any other IDE or text editor), then paste it into Jupyter cells. Similarly, you can download Jupyter notebooks as Python scripts (`File` $\\rightarrow$ `Download as` $\\rightarrow$ `Python (.py)`) and edit/run them in Spyder. If this feels like a lot of info at once, don't worry! The main point of these first exercises is just to get you used to the infrastructure we use in the course.\n",
    "\n",
    "To provide a unified and integrated workflow for submitting deliverables, we will utilize **Vocareum**, which is a cloud-based educational platform where you are right now. You **must submit all deliverables through Vocareum** and we will not accept deliverables via any channels besides Vocareum. Some students may not have even used `Jupyter Notebooks` before, so we know there is a learning curve. We hope that this first homework will serve as tutorial for how to write scripts and submit your deliverables."
   ]
  },
  {
   "cell_type": "markdown",
   "metadata": {
    "nbgrader": {
     "grade": false,
     "locked": true,
     "solution": false
    }
   },
   "source": [
    "# Part 1: Auto-graded\n",
    "\n",
    "Below, you will see code blocks with different colors. Blocks colored in dark gray are where your script will be auto-graded. If those blocks do not give you an error, you may move on to the next question. For code blocks with light gray, you only need to write your codes after `# Start your code here`. Other light gray blocks are not editable, and they are just for providing necessary variables. You may also want to add additional cells when you are working on this notebook. However, make sure that you remove them all and check that the whole script runs (`Kernel` $\\rightarrow$ `Restart & Run All`) without any errors before you submit it. Otherwise, you will recevie **0 credit** for this part. You should already know the your score for auto-graded part of the assignment when you submit the assignment due to the auto-grader, so if you have questions or see issues please let an instructor know at least 24 hours before the assignment is due.\n",
    "\n",
    "Since this is the first part of your first assignment, we will **grade it out of 50 points** (rather than 100). This means you can choose to only work some of the problems, or only some parts of all problems. The total grade cannot exceed 100%, but it is recommended that students at least attempt all problems to get practice for future assignments."
   ]
  },
  {
   "cell_type": "markdown",
   "metadata": {
    "nbgrader": {
     "grade": false,
     "locked": true,
     "solution": false
    }
   },
   "source": [
    "## 1. Importing Packages (5 pts)\n",
    "\n",
    "In this problem, you will import the two widely-used `Python` packages introduced in the lectures. **Import `NumPy` with alias `np` (5 pts)** and **`Pandas` package with alias `pd` (5 pts).**"
   ]
  },
  {
   "cell_type": "code",
   "execution_count": 1,
   "metadata": {
    "nbgrader": {
     "grade": false,
     "grade_id": "p1-numpy",
     "locked": false,
     "points": "5",
     "solution": false
    }
   },
   "outputs": [],
   "source": [
    "####################################################################\n",
    "# Start your code here\n",
    "import numpy as np\n",
    "import pandas as pd\n",
    "####################################################################"
   ]
  },
  {
   "cell_type": "code",
   "execution_count": null,
   "metadata": {
    "collapsed": true,
    "jupyter": {
     "outputs_hidden": true
    },
    "nbgrader": {
     "grade": true,
     "grade_id": "p1-numpy",
     "locked": true,
     "points": "2.5",
     "solution": false
    }
   },
   "outputs": [],
   "source": [
    "assert np.__version__"
   ]
  },
  {
   "cell_type": "code",
   "execution_count": null,
   "metadata": {
    "collapsed": true,
    "jupyter": {
     "outputs_hidden": true
    },
    "nbgrader": {
     "grade": true,
     "grade_id": "p1-pandas",
     "locked": true,
     "points": "2.5",
     "solution": false
    }
   },
   "outputs": [],
   "source": [
    "assert pd.__version__"
   ]
  },
  {
   "cell_type": "markdown",
   "metadata": {
    "nbgrader": {
     "grade": false,
     "grade_id": "",
     "locked": true,
     "points": "5",
     "solution": false
    }
   },
   "source": [
    "## 2. Matrix-vector Multiplication (20 pts)\n",
    "\n",
    "Write a function `mulMatVec` that multiplies an arbitrary matrix (`matrix`) and vector (`vector`). The function should meet the following requirements:\n",
    "- return the output vector from multiplication **(20 pts)**\n",
    "- return the output as *numpy.ndarray* **(5 pts)**\n",
    "- handle any size and shape of matrices and vectors **(10 pts)**\n",
    "- take both *list* and *numpy.ndarray* as inputs **(5 pts)**\n",
    "\n",
    "You **should not** use any algebraic built-in functions besides simple scalar addition (`+`) and multiplication (`*`). We provided a test sample below. You may get full credit for the first requirement if the function works for this test run."
   ]
  },
  {
   "cell_type": "code",
   "execution_count": null,
   "metadata": {
    "collapsed": true,
    "jupyter": {
     "outputs_hidden": true
    },
    "nbgrader": {
     "grade": false,
     "locked": true,
     "solution": false
    }
   },
   "outputs": [],
   "source": [
    "matrix = np.array([[1, 2], [-4, 5]])\n",
    "vector = np.array([-2, 3])"
   ]
  },
  {
   "cell_type": "code",
   "execution_count": null,
   "metadata": {},
   "outputs": [],
   "source": [
    "def mulMatVec(matrix, vector):\n",
    "####################################################################\n",
    "# Start your code here\n",
    "    matrix = np.array(matrix)\n",
    "    vector = np.array(vector)\n",
    "    \n",
    "    result = np.zeros((matrix.shape[0],))\n",
    "    \n",
    "    for i in range(matrix.shape[0]):\n",
    "        for j in range(matrix.shape[1]):\n",
    "            result[i] += matrix[i][j] * vector[j]\n",
    "            \n",
    "    return result\n",
    "\n",
    "####################################################################"
   ]
  },
  {
   "cell_type": "code",
   "execution_count": null,
   "metadata": {
    "collapsed": true,
    "jupyter": {
     "outputs_hidden": true
    },
    "nbgrader": {
     "grade": true,
     "grade_id": "p2-output",
     "locked": true,
     "points": "10",
     "solution": false
    }
   },
   "outputs": [],
   "source": [
    "assert np.isclose(mulMatVec(matrix, vector), np.dot(matrix, vector)).all()"
   ]
  },
  {
   "cell_type": "code",
   "execution_count": null,
   "metadata": {
    "collapsed": true,
    "jupyter": {
     "outputs_hidden": true
    },
    "nbgrader": {
     "grade": true,
     "grade_id": "p2-outputtype",
     "locked": true,
     "points": "2.5",
     "solution": false
    }
   },
   "outputs": [],
   "source": [
    "assert type(mulMatVec(matrix, vector)) == np.ndarray"
   ]
  },
  {
   "cell_type": "code",
   "execution_count": null,
   "metadata": {
    "collapsed": true,
    "jupyter": {
     "outputs_hidden": true
    },
    "nbgrader": {
     "grade": true,
     "grade_id": "p2-anysize",
     "locked": true,
     "points": "5",
     "solution": false
    }
   },
   "outputs": [],
   "source": [
    "from numpy.random import rand, randint\n",
    "\n",
    "n = randint(2, 10)\n",
    "m = randint(2, 10)\n",
    "\n",
    "A = rand(n, m)\n",
    "b = rand(m)\n",
    "\n",
    "assert np.isclose(mulMatVec(A, b), np.dot(A, b)).all()"
   ]
  },
  {
   "cell_type": "code",
   "execution_count": null,
   "metadata": {
    "collapsed": true,
    "jupyter": {
     "outputs_hidden": true
    },
    "nbgrader": {
     "grade": true,
     "grade_id": "p2-inputtype",
     "locked": true,
     "points": "2.5",
     "solution": false
    }
   },
   "outputs": [],
   "source": [
    "C = A.tolist()\n",
    "d = b.tolist()\n",
    "\n",
    "assert np.isclose(mulMatVec(C, d), np.dot(C, d)).all()"
   ]
  },
  {
   "cell_type": "markdown",
   "metadata": {
    "nbgrader": {
     "grade": false,
     "locked": true,
     "solution": false
    }
   },
   "source": [
    "## 3. Gram-Schmidt Process (25 pts)\n",
    "\n",
    "The matrix `v` defined below is a 4th-order Vandermonde matrix ranging from -1 to 1 with resolution of 25. Orthonormalize the matrix `v` via Gram-Schmidt process. Orthonormal means:\n",
    "\n",
    "- the $L_2$ norm of each column is 1 (25 pts)\n",
    "- the inner product between any 2 different columns is 0 (25 pts)\n",
    "\n",
    "The name of resulting orthonormalized matrix should be `ortho_v`, or you will receive **0 credit**."
   ]
  },
  {
   "cell_type": "code",
   "execution_count": null,
   "metadata": {
    "nbgrader": {
     "grade": false,
     "locked": true,
     "solution": false
    }
   },
   "outputs": [],
   "source": [
    "xi = np.linspace(-1, 1, 25)\n",
    "xi = xi.reshape(-1, 1)\n",
    "v = np.hstack((xi**0, xi**1, xi**2, xi**3, xi**4))\n",
    "\n",
    "print(v)"
   ]
  },
  {
   "cell_type": "code",
   "execution_count": null,
   "metadata": {
    "collapsed": true,
    "jupyter": {
     "outputs_hidden": true
    }
   },
   "outputs": [],
   "source": [
    "####################################################################\n",
    "# Start your code here\n",
    "e1 = v[:, 0]\n",
    "\n",
    "e2 = v[:, 1] - np.dot(e1, v[:, 1]) / np.dot(e1, e1) * e1\n",
    "\n",
    "e3 = v[:, 2] - np.dot(e1, v[:, 2]) / np.dot(e1, e1) * e1 - np.dot(e2, v[:, 2]) / np.dot(e2, e2) * e2\n",
    "\n",
    "e4 = v[:, 3] - np.dot(e1, v[:, 3]) / np.dot(e1, e1) * e1 - np.dot(e2, v[:, 3]) / np.dot(e2, e2) * e2 - np.dot(e3, v[:, 3]) / np.dot(e3, e3) * e3\n",
    "\n",
    "e5 = v[:, 4] - np.dot(e1, v[:, 4]) / np.dot(e1, e1) * e1 - np.dot(e2, v[:, 4]) / np.dot(e2, e2) * e2 - np.dot(e3, v[:, 4]) / np.dot(e3, e3) * e3 - np.dot(e4, v[:, 4]) / np.dot(e4, e4) * e4\n",
    "\n",
    "ortho_v = np.hstack((e1.reshape(-1, 1) / np.linalg.norm(e1), e2.reshape(-1, 1) / np.linalg.norm(e2) , e3.reshape(-1, 1) / np.linalg.norm(e3), e4.reshape(-1, 1) / np.linalg.norm(e4), e5.reshape(-1, 1) / np.linalg.norm(e5)))\n",
    "\n",
    "####################################################################"
   ]
  },
  {
   "cell_type": "code",
   "execution_count": null,
   "metadata": {
    "collapsed": true,
    "jupyter": {
     "outputs_hidden": true
    },
    "nbgrader": {
     "grade": true,
     "grade_id": "p3-norm",
     "locked": true,
     "points": "12.5",
     "solution": false
    }
   },
   "outputs": [],
   "source": [
    "ans = True\n",
    "\n",
    "for i in range(5):\n",
    "    ans = ans and np.isclose(np.linalg.norm(ortho_v[:, i], 2), 1)\n",
    "\n",
    "assert ans"
   ]
  },
  {
   "cell_type": "code",
   "execution_count": null,
   "metadata": {
    "collapsed": true,
    "jupyter": {
     "outputs_hidden": true
    },
    "nbgrader": {
     "grade": true,
     "grade_id": "p3-innerproduct",
     "locked": true,
     "points": "12.5",
     "solution": false
    }
   },
   "outputs": [],
   "source": [
    "ans = True\n",
    "\n",
    "A = np.dot(ortho_v, ortho_v.T)\n",
    "\n",
    "for i in range(4):\n",
    "    for j in range(i+1, 5):\n",
    "        ans = ans and np.isclose(np.dot(ortho_v[:, i], ortho_v[:, j]), 0)\n",
    "\n",
    "assert ans"
   ]
  },
  {
   "cell_type": "markdown",
   "metadata": {
    "nbgrader": {
     "grade": false,
     "locked": true,
     "solution": false
    }
   },
   "source": [
    "# Peer-graded\n",
    "\n",
    "In peer-graded part of the assignment, you will answer more open-ended questions. These will include plotting results, short discussions, and mathematical derivations. This part will not go through auto-grading system, but will be reviewed by your classmates. You are required to review 4 submissions from other classmates. Peer reviews are due one week after the homework, and will account for 10% of your grade. Late submissions are not accepted for homeworks or peer reviews, except in extreme circumstances. One homework grade will be dropped to account for any personal or technical difficulties you face.\n",
    "\n",
    "The goal of this part is to introduce you to the main types of questions you will encounter, as well as some basic concepts in programming, numerical methods, and data analysis. Future assignments will not include detailed instructions on how to respond, and it is expected that you will recognize the appropriate way to respond to each question (Markdown cells, code cells, or a combination). Ultimately, the goal is always to provide a solution that answers the questions asked and is clear to your peers and instructors."
   ]
  },
  {
   "cell_type": "markdown",
   "metadata": {
    "nbgrader": {
     "grade": false,
     "locked": true,
     "solution": false
    }
   },
   "source": [
    "## 1. Python and MATLAB (text question)\n",
    "\n",
    "For some questions, you have to put together your answer as text. By default, `Jupyter Notebook` creates a new cell as a code block. To switch it to a text box or a **Markdown** box, find the keyboard image on the top menu. You will see a dropdown left to the keyboard. Select **Markdown** and, if `In []:` on the left-hand side of the cell disappears, you are all set (you can also try pushing `m` with the cell selected for a shortcut). You may want to look at [basic Markdown syntax](https://www.markdownguide.org/basic-syntax/) to make your answer more legible."
   ]
  },
  {
   "cell_type": "markdown",
   "metadata": {
    "nbgrader": {
     "grade": false,
     "locked": true,
     "solution": false
    }
   },
   "source": [
    "List at least 3 differences between `Python` and MATLAB."
   ]
  },
  {
   "cell_type": "markdown",
   "metadata": {},
   "source": [
    "- \n",
    "- \n",
    "- "
   ]
  },
  {
   "cell_type": "markdown",
   "metadata": {
    "nbgrader": {
     "grade": false,
     "locked": true,
     "solution": false
    }
   },
   "source": [
    "## 2. Matrix Vector Notation (equation question)\n",
    "\n",
    "Some questions may require you to write math or equations. There are two options for including math:\n",
    "\n",
    "1) You can insert an image of your work (e.g., a photo of a hand-written derivation).\n",
    "\n",
    "To do this, you need an image file of your mathematical equations on your computer. You can then insert it by creating a **Markdown** cell, then using `Edit` $\\rightarrow$ `Insert Image`. This will allow you to select the image from your computer and embed it in the notebook. This approach may be preferable for large equations or derivations, but please be sure to write legibly.\n",
    "\n",
    "2) You can type the math in directly to the cell.\n",
    "\n",
    "For this approach, you can use $\\LaTeX$ notation to embed math directly into a **Markdown** cell. You just need to enclose the TeX notation within `$`'s. For example, `$e^{i\\pi} = -1$` will render as $e^{i\\pi} = -1$. This approach is great for short equations, or putting equations within text (it is the approach used in the course notebooks)."
   ]
  },
  {
   "cell_type": "markdown",
   "metadata": {},
   "source": [
    "Write the formula for multiplying a matrix, A, with a vector x, yielding a vector product, b in either [vector notation](https://en.wikipedia.org/wiki/Vector_notation) or [index notation](https://en.wikipedia.org/wiki/Index_notation)."
   ]
  },
  {
   "cell_type": "markdown",
   "metadata": {
    "nbgrader": {
     "grade": false,
     "locked": true,
     "solution": false
    }
   },
   "source": [
    "## 3. Visualizing a 1D dataset (plot question)\n",
    "\n",
    "We will often ask you to plot data in the homework questions. We try to provide specific instructions of what to plot, but there will always be some room for interpretation. You can create plots with any style you like, and will not be penalized as long as your peers can understand it (e.g., all axes need to be labeled, and legends should be included on the plot or as a caption). The standard library for plotting in Python is called `matplotlib`, and is based loosely on MATLAB syntax. It can be very powerful, but it can also be confusing. The [Matplotlib Gallery](https://matplotlib.org/2.0.2/gallery.html) is a great resource for seeing what types of plots are possible, and getting some example source code to work from.\n",
    "\n",
    "In this problem, you will create a plot of IR spectrum data with the `matplotlib` package. First, import the `matplotlib` and `pandas` packages:"
   ]
  },
  {
   "cell_type": "code",
   "execution_count": null,
   "metadata": {
    "collapsed": true,
    "jupyter": {
     "outputs_hidden": true
    }
   },
   "outputs": [],
   "source": [
    "import matplotlib.pyplot as plt\n",
    "import pandas as pd"
   ]
  },
  {
   "cell_type": "markdown",
   "metadata": {},
   "source": [
    "Read in `ethanol_IR.csv` file as a `pandas` DataFrame."
   ]
  },
  {
   "cell_type": "code",
   "execution_count": null,
   "metadata": {},
   "outputs": [],
   "source": [
    "df = pd.read_csv('ethanol_IR.csv')"
   ]
  },
  {
   "cell_type": "markdown",
   "metadata": {
    "nbgrader": {
     "grade": false,
     "locked": true,
     "solution": false
    }
   },
   "source": [
    "Create a plot of the infrared spectrum data. The horizontal and vertical axes should represent the wavenumber and absorbance, respectively."
   ]
  },
  {
   "cell_type": "code",
   "execution_count": null,
   "metadata": {},
   "outputs": [],
   "source": [
    "fig, ax = plt.subplots(figsize = (10, 5), dpi = 150)\n",
    "X = df['wavenumber [cm^-1]']\n",
    "y = df['absorbance']\n",
    "\n",
    "ax.plot(X, y, 'k--')\n",
    "ax.set_xlabel('wavenumber [$cm^{-1}$]')\n",
    "ax.set_ylabel('absorbance')\n",
    "ax.set_title('IR of ethanol');"
   ]
  },
  {
   "cell_type": "markdown",
   "metadata": {
    "nbgrader": {
     "grade": false,
     "locked": true,
     "solution": false
    }
   },
   "source": [
    "## 3. Vandermonde Matrix (analysis question)\n",
    "\n",
    "Many homework questions will ask you to perform some sort of analysis that involves a combination of programming, plotting, and discussion. These questions may require a combination of multiple block types, and will often be open to some level of creative interpretation. You may ask instructors for clarification if needed, but it is preferred that you address any ambiguities in the question in your discussion. This is typical of real-world data problems: they are rarely perfectly defined, and you will need to make some decisions about how to interpret the problem. This is also true of your semester project, and some exam problems, so it is good to gain practice on homeworks.\n",
    "\n",
    "Note that your homeworks should not be graded on code efficiency or elegance. If you are able to solve the problem, and the code runs in a reasonable amount of time, then it is acceptable. The goal of this course is to gain conceptual understanding and improve your programming skills, but it is not expected that students will generate professional quality code."
   ]
  },
  {
   "cell_type": "markdown",
   "metadata": {
    "nbgrader": {
     "grade": false,
     "locked": true,
     "solution": false
    }
   },
   "source": [
    "Write a function called `vandermonde` that returns a Vandermonde matrix. The function should take the following arguments:\n",
    "\n",
    "- `min_x`: the minimum of x range\n",
    "- `max_x`: the maximum of x range\n",
    "- `resolution`: the resolution of x range\n",
    "- `order`: the highest order of polynomials"
   ]
  },
  {
   "cell_type": "code",
   "execution_count": 6,
   "metadata": {
    "collapsed": true,
    "jupyter": {
     "outputs_hidden": true
    }
   },
   "outputs": [],
   "source": [
    "def vandermonde(min_x, max_x, order, resolution):\n",
    "    ################################################################\n",
    "    # Start your code here\n",
    "    xi = np.linspace(min_x, max_x, resolution)\n",
    "    xi = xi.reshape(-1, 1)\n",
    "    \n",
    "    v = xi**0\n",
    "    for i in range(1, order + 1):\n",
    "        v = np.append(v, xi**i)\n",
    "        \n",
    "    return v.reshape(order+1, resolution).T\n",
    "    ################################################################"
   ]
  },
  {
   "cell_type": "markdown",
   "metadata": {
    "nbgrader": {
     "grade": false,
     "locked": true,
     "solution": false
    }
   },
   "source": [
    "Use your function to create a 6th-order Vandermonde matrix ranging from 2 to 10 with resolution of 40. Create a single plot that visualizes each column of the matrix (x-axis is row number, y-axis is the value in the row). Plot all columns on a single plot, and use different colors to distinguish between each column."
   ]
  },
  {
   "cell_type": "code",
   "execution_count": null,
   "metadata": {
    "collapsed": true,
    "jupyter": {
     "outputs_hidden": true
    }
   },
   "outputs": [],
   "source": [
    "import numpy as np\n",
    "v6 = vandermonde(2, 10, 6, 40)\n",
    "\n",
    "fig, ax = plt.subplots(figsize = (10, 5), dpi = 150)\n",
    "for i in range(v6.shape[1]):\n",
    "    ax.plot(np.linspace(2, 10, 40), v6[:, i], '--', label = '{}-th order'.format(i))\n",
    "\n",
    "ax.set_xlabel('X')\n",
    "ax.set_ylabel('y')\n",
    "ax.set_title('6-th order Vandermonde matrix')\n",
    "ax.legend();"
   ]
  },
  {
   "cell_type": "markdown",
   "metadata": {
    "nbgrader": {
     "grade": false,
     "locked": true,
     "solution": false
    }
   },
   "source": [
    "What happens to the rank of the Vandermonde matrix as the resolution increases?"
   ]
  },
  {
   "cell_type": "markdown",
   "metadata": {
    "jupyter": {
     "outputs_hidden": true
    }
   },
   "source": [
    "#### Answer: \n",
    "\n",
    "The rank of a M × N matrix is min(M, N) if all columns (or rows) are linearly independent. Since all columns of a Vandermonde matrix are linearly independent, the rank of the current matrix is 7, which is min(7, 40). In this case, the rank is dependent on the number of columns so the rank does not change as the resolution (i.e. the number of rows) increases."
   ]
  },
  {
   "cell_type": "markdown",
   "metadata": {
    "nbgrader": {
     "grade": false,
     "locked": true,
     "solution": false
    }
   },
   "source": [
    "## Submission Instruction\n",
    "\n",
    "When you are finished, make sure to save this notebook. You can either click the disk image in the upper left of the screen or **Save and Checkpoint** button under the **File** tab. Then, click the blue **Submit** button. The system will let you know whether it is successfully submitted."
   ]
  }
 ],
 "metadata": {
  "kernelspec": {
   "display_name": "Python 3",
   "language": "python",
   "name": "python3"
  },
  "language_info": {
   "codemirror_mode": {
    "name": "ipython",
    "version": 3
   },
   "file_extension": ".py",
   "mimetype": "text/x-python",
   "name": "python",
   "nbconvert_exporter": "python",
   "pygments_lexer": "ipython3",
   "version": "3.7.4"
  }
 },
 "nbformat": 4,
 "nbformat_minor": 4
}
